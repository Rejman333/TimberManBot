{
 "cells": [
  {
   "cell_type": "markdown",
   "id": "e53b663f-bfbc-409a-affa-160bd43c14ee",
   "metadata": {},
   "source": [
    "# Game Link: [link](https://games.cdn.famobi.com/html5games/t/timber-man/v030/?fg_domain=play.famobi.com&fg_aid=A1000-1&fg_uid=a25e37b9-1550-49c9-b383-92ad51b4ecc2&fg_pid=4638e320-4444-4514-81c4-d80a8c662371&fg_beat=420&original_ref=https%3A%2F%2Fhtml5games.com%2F)"
   ]
  },
  {
   "cell_type": "code",
   "execution_count": 1,
   "id": "e0c8d9af-5071-4a01-ae51-d4c0364c54e1",
   "metadata": {},
   "outputs": [],
   "source": [
    "import keyboard\n",
    "import mss\n",
    "import cv2\n",
    "import numpy as np\n",
    "import pyautogui\n",
    "from time import time, sleep\n",
    "from IPython.display import clear_output"
   ]
  },
  {
   "cell_type": "code",
   "execution_count": 11,
   "id": "9cec084b-aa6f-4cc6-9806-08f6a0d6a2bb",
   "metadata": {},
   "outputs": [],
   "source": [
    "left_branch = cv2.imread('Img/left_branch.png')\n",
    "right_branch = cv2.imread('Img/right_branch.png')\n",
    "\n",
    "left_position = {'top': 540, 'left':230, 'width':200 , 'height':100}\n",
    "right_position = {'top': 540, 'left':530, 'width':200 , 'height':100}\n",
    "\n",
    "box_width = left_branch.shape[1]\n",
    "boxc_height = left_branch.shape[0]\n",
    "\n",
    "is_player_left = True\n",
    "pyautogui.PAUSE = 0\n",
    "formatter = \"{:.2%}\"\n",
    "\n",
    "cv2_matching_algorithms = np.array([cv2.TM_CCOEFF, cv2.TM_CCOEFF_NORMED, cv2.TM_CCORR, cv2.TM_CCORR_NORMED, cv2.TM_SQDIFF, cv2.TM_SQDIFF_NORMED])"
   ]
  },
  {
   "cell_type": "code",
   "execution_count": 12,
   "id": "63573d98-047a-4065-9dec-3d020ba1a5a1",
   "metadata": {},
   "outputs": [
    {
     "name": "stdout",
     "output_type": "stream",
     "text": [
      "FPS: 5.83\n"
     ]
    }
   ],
   "source": [
    "acive_matching_algorithm = cv2_matching_algorithms[3]\n",
    "delay = 0.12\n",
    "target_val = .80\n",
    "\n",
    "keyboard.wait('s')\n",
    "sct = mss.mss()\n",
    "\n",
    "while True :\n",
    "    fps_time = time()\n",
    "    if is_player_left:\n",
    "        scr = np.array(sct.grab(left_position))\n",
    "        branch = left_branch\n",
    "    else:\n",
    "        scr = np.array(sct.grab(right_position))\n",
    "        branch = right_branch\n",
    "\n",
    "    scr_remove = scr[:,:,:3]\n",
    "\n",
    "    result = cv2.matchTemplate(scr_remove, branch, acive_matching_algorithm)\n",
    "    \n",
    "    _, max_val, _, max_loc = cv2.minMaxLoc(result)\n",
    "    print(f\"Max Val: {formatter.format(max_val)}% Max Loc: {max_loc}\")\n",
    "    \n",
    "    src = scr.copy()\n",
    "    if max_val > target_val:\n",
    "        is_player_left = not is_player_left\n",
    "        cv2.rectangle(scr, max_loc, (max_loc[0] + box_width, max_loc[1] + boxc_height), (0,255,255), 2)\n",
    "\n",
    "    cv2.imshow('Screen Shot', scr)\n",
    "    cv2.setWindowProperty(\"Screen Shot\", cv2.WND_PROP_TOPMOST, 1)\n",
    "    cv2.waitKey(1)\n",
    "    if(is_player_left):\n",
    "        pyautogui.press(\"left\")\n",
    "    else:\n",
    "        pyautogui.press(\"right\")\n",
    "    sleep(delay)\n",
    "\n",
    "    clear_output(wait=True)\n",
    "    print('FPS: {:.2f}'.format(1 / (time() - fps_time)))\n",
    "    \n",
    "    if keyboard.is_pressed('q'):\n",
    "        cv2.destroyAllWindows()\n",
    "        break"
   ]
  }
 ],
 "metadata": {
  "kernelspec": {
   "display_name": "Python 3 (ipykernel)",
   "language": "python",
   "name": "python3"
  },
  "language_info": {
   "codemirror_mode": {
    "name": "ipython",
    "version": 3
   },
   "file_extension": ".py",
   "mimetype": "text/x-python",
   "name": "python",
   "nbconvert_exporter": "python",
   "pygments_lexer": "ipython3",
   "version": "3.7.9"
  }
 },
 "nbformat": 4,
 "nbformat_minor": 5
}
